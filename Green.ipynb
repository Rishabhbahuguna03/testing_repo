{
  "nbformat": 4,
  "nbformat_minor": 0,
  "metadata": {
    "colab": {
      "name": "Green.ipynb",
      "provenance": [],
      "authorship_tag": "ABX9TyMqZ+aCIHK69SKyktoAQBVB",
      "include_colab_link": true
    },
    "kernelspec": {
      "name": "python3",
      "display_name": "Python 3"
    },
    "language_info": {
      "name": "python"
    }
  },
  "cells": [
    {
      "cell_type": "markdown",
      "metadata": {
        "id": "view-in-github",
        "colab_type": "text"
      },
      "source": [
        "<a href=\"https://colab.research.google.com/github/Rishabhbahuguna03/testing_repo/blob/gh-pages/Green.ipynb\" target=\"_parent\"><img src=\"https://colab.research.google.com/assets/colab-badge.svg\" alt=\"Open In Colab\"/></a>"
      ]
    },
    {
      "cell_type": "code",
      "execution_count": 1,
      "metadata": {
        "colab": {
          "base_uri": "https://localhost:8080/"
        },
        "id": "Hk22lrRvfYu7",
        "outputId": "08d0c6ed-0476-4bdc-a950-cb7e8a02af6b"
      },
      "outputs": [
        {
          "output_type": "stream",
          "name": "stdout",
          "text": [
            "Collecting pyota\n",
            "  Downloading PyOTA-2.1.0-py2.py3-none-any.whl (113 kB)\n",
            "\u001b[K     |████████████████████████████████| 113 kB 4.5 MB/s \n",
            "\u001b[?25hRequirement already satisfied: requests[security]>=2.4.1 in /usr/local/lib/python3.7/dist-packages (from pyota) (2.23.0)\n",
            "Requirement already satisfied: six in /usr/local/lib/python3.7/dist-packages (from pyota) (1.15.0)\n",
            "Collecting pysha3\n",
            "  Downloading pysha3-1.0.2.tar.gz (829 kB)\n",
            "\u001b[K     |████████████████████████████████| 829 kB 34.2 MB/s \n",
            "\u001b[?25hCollecting phx-filters\n",
            "  Downloading phx_filters-2.0.2-py3-none-any.whl (35 kB)\n",
            "Requirement already satisfied: chardet<4,>=3.0.2 in /usr/local/lib/python3.7/dist-packages (from requests[security]>=2.4.1->pyota) (3.0.4)\n",
            "Requirement already satisfied: idna<3,>=2.5 in /usr/local/lib/python3.7/dist-packages (from requests[security]>=2.4.1->pyota) (2.10)\n",
            "Requirement already satisfied: certifi>=2017.4.17 in /usr/local/lib/python3.7/dist-packages (from requests[security]>=2.4.1->pyota) (2021.10.8)\n",
            "Requirement already satisfied: urllib3!=1.25.0,!=1.25.1,<1.26,>=1.21.1 in /usr/local/lib/python3.7/dist-packages (from requests[security]>=2.4.1->pyota) (1.24.3)\n",
            "Collecting cryptography>=1.3.4\n",
            "  Downloading cryptography-36.0.1-cp36-abi3-manylinux_2_24_x86_64.whl (3.6 MB)\n",
            "\u001b[K     |████████████████████████████████| 3.6 MB 39.9 MB/s \n",
            "\u001b[?25hCollecting pyOpenSSL>=0.14\n",
            "  Downloading pyOpenSSL-21.0.0-py2.py3-none-any.whl (55 kB)\n",
            "\u001b[K     |████████████████████████████████| 55 kB 3.1 MB/s \n",
            "\u001b[?25hRequirement already satisfied: cffi>=1.12 in /usr/local/lib/python3.7/dist-packages (from cryptography>=1.3.4->requests[security]>=2.4.1->pyota) (1.15.0)\n",
            "Requirement already satisfied: pycparser in /usr/local/lib/python3.7/dist-packages (from cffi>=1.12->cryptography>=1.3.4->requests[security]>=2.4.1->pyota) (2.21)\n",
            "Collecting phx-class-registry\n",
            "  Downloading phx_class_registry-3.0.5-py3-none-any.whl (11 kB)\n",
            "Requirement already satisfied: regex>=2018.8.17 in /usr/local/lib/python3.7/dist-packages (from phx-filters->pyota) (2019.12.20)\n",
            "Requirement already satisfied: pytz in /usr/local/lib/python3.7/dist-packages (from phx-filters->pyota) (2018.9)\n",
            "Requirement already satisfied: python-dateutil in /usr/local/lib/python3.7/dist-packages (from phx-filters->pyota) (2.8.2)\n",
            "Building wheels for collected packages: pysha3\n",
            "  Building wheel for pysha3 (setup.py) ... \u001b[?25l\u001b[?25hdone\n",
            "  Created wheel for pysha3: filename=pysha3-1.0.2-cp37-cp37m-linux_x86_64.whl size=133591 sha256=1edd6b903d6b092a616947341078d5bf20410d120d5d2602a27e0d59e760aac4\n",
            "  Stored in directory: /root/.cache/pip/wheels/0d/9e/bc/789fa0986c1fef30cafcc29da4dd07bc17ecba3fab78e27ed6\n",
            "Successfully built pysha3\n",
            "Installing collected packages: cryptography, pyOpenSSL, phx-class-registry, pysha3, phx-filters, pyota\n",
            "Successfully installed cryptography-36.0.1 phx-class-registry-3.0.5 phx-filters-2.0.2 pyOpenSSL-21.0.0 pyota-2.1.0 pysha3-1.0.2\n"
          ]
        }
      ],
      "source": [
        "pip install pyota"
      ]
    },
    {
      "cell_type": "code",
      "source": [
        ""
      ],
      "metadata": {
        "id": "ZRFELeJLgRgk"
      },
      "execution_count": null,
      "outputs": []
    },
    {
      "cell_type": "markdown",
      "source": [
        "#Node Connection"
      ],
      "metadata": {
        "id": "P8DCymlNCHFZ"
      }
    },
    {
      "cell_type": "code",
      "source": [
        "from Iota import Iota\n",
        "NodeURL= 'https://nodes.thetangle.org:43'\n",
        "NewAccount = Iota(NodeURL)\n",
        "result = NewAccount.get_node_info()\n",
        "for r in result:\n",
        "  print (str(r)+ ':'+ str(result[r]))"
      ],
      "metadata": {
        "colab": {
          "base_uri": "https://localhost:8080/",
          "height": 374
        },
        "id": "_oI6fO2rCXtn",
        "outputId": "27d2525e-d4d6-492e-9387-cd1f099e980f"
      },
      "execution_count": 2,
      "outputs": [
        {
          "output_type": "error",
          "ename": "ModuleNotFoundError",
          "evalue": "ignored",
          "traceback": [
            "\u001b[0;31m---------------------------------------------------------------------------\u001b[0m",
            "\u001b[0;31mModuleNotFoundError\u001b[0m                       Traceback (most recent call last)",
            "\u001b[0;32m<ipython-input-2-b6efc628fdf0>\u001b[0m in \u001b[0;36m<module>\u001b[0;34m()\u001b[0m\n\u001b[0;32m----> 1\u001b[0;31m \u001b[0;32mfrom\u001b[0m \u001b[0mIota\u001b[0m \u001b[0;32mimport\u001b[0m \u001b[0mIota\u001b[0m\u001b[0;34m\u001b[0m\u001b[0;34m\u001b[0m\u001b[0m\n\u001b[0m\u001b[1;32m      2\u001b[0m \u001b[0mNodeURL\u001b[0m\u001b[0;34m=\u001b[0m \u001b[0;34m'https://nodes.thetangle.org:43'\u001b[0m\u001b[0;34m\u001b[0m\u001b[0;34m\u001b[0m\u001b[0m\n\u001b[1;32m      3\u001b[0m \u001b[0mNewAccount\u001b[0m \u001b[0;34m=\u001b[0m \u001b[0mIota\u001b[0m\u001b[0;34m(\u001b[0m\u001b[0mNodeURL\u001b[0m\u001b[0;34m)\u001b[0m\u001b[0;34m\u001b[0m\u001b[0;34m\u001b[0m\u001b[0m\n\u001b[1;32m      4\u001b[0m \u001b[0mresult\u001b[0m \u001b[0;34m=\u001b[0m \u001b[0mNewAccount\u001b[0m\u001b[0;34m.\u001b[0m\u001b[0mget_node_info\u001b[0m\u001b[0;34m(\u001b[0m\u001b[0;34m)\u001b[0m\u001b[0;34m\u001b[0m\u001b[0;34m\u001b[0m\u001b[0m\n\u001b[1;32m      5\u001b[0m \u001b[0;32mfor\u001b[0m \u001b[0mr\u001b[0m \u001b[0;32min\u001b[0m \u001b[0mresult\u001b[0m\u001b[0;34m:\u001b[0m\u001b[0;34m\u001b[0m\u001b[0;34m\u001b[0m\u001b[0m\n",
            "\u001b[0;31mModuleNotFoundError\u001b[0m: No module named 'Iota'",
            "",
            "\u001b[0;31m---------------------------------------------------------------------------\u001b[0;32m\nNOTE: If your import is failing due to a missing package, you can\nmanually install dependencies using either !pip or !apt.\n\nTo view examples of installing some common dependencies, click the\n\"Open Examples\" button below.\n\u001b[0;31m---------------------------------------------------------------------------\u001b[0m\n"
          ],
          "errorDetails": {
            "actions": [
              {
                "action": "open_url",
                "actionText": "Open Examples",
                "url": "/notebooks/snippets/importing_libraries.ipynb"
              }
            ]
          }
        }
      ]
    }
  ]
}